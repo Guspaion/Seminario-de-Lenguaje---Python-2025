{
 "cells": [
  {
   "cell_type": "code",
   "execution_count": 1,
   "metadata": {},
   "outputs": [],
   "source": [
    "#Ejercicio 1\n",
    "\n",
    "def segunda_palabra_vocal(linea):\n",
    "    palabras = linea.split()\n",
    "    if len(palabras) > 1 and palabras[1][0].lower() in \"aeiou\": \n",
    "        return True\n",
    "    return False\n",
    "\n",
    "zen_text = \"The Zen of Python, by Tim Peters \\n\"\n",
    "\"Beautiful is better than ugly.\\n\"\n",
    "\"Explicit is better than implicit.\\n\"\n",
    "\"Simple is better than complex.\\n\"\n",
    "\"Complex is better than complicated.\\n\"\n",
    "\"Flat is better than nested.\\n\"\n",
    "\"Sparse is better than dense.\\n\"\n",
    "\"Readability counts.\\n\"\n",
    "\"Special cases aren't special enough to break the rules.\\n\"\n",
    "\"Although practicality beats purity.\\n\"\n",
    "\"Errors should never pass silently.\\n\"\n",
    "\"Unless explicitly silenced.\\n\"\n",
    "\"In the face of ambiguity, refuse the temptation to guess.\\n\"\n",
    "\"There should be one-- and preferably only one --obvious way to do it.\\n\"\n",
    "\"Although that way may not be obvious at first unless you're Dutch.\\n\"\n",
    "\"Now is better than never.\\n\"\n",
    "\"Although never is often better than *right* now.\\n\"\n",
    "\"If the implementation is hard to explain, it's a bad idea.\\n\"\n",
    "\"If the implementation is easy to explain, it may be a good idea.\\n\"\n",
    "\"Namespaces are one honking great idea -- let's do more of those!\\n\"\n",
    "\n",
    "for linea in zen_text.split(\"\\n\"):  \n",
    "    if segunda_palabra_vocal(linea):\n",
    "        print(linea.strip())\n"
   ]
  },
  {
   "cell_type": "code",
   "execution_count": null,
   "metadata": {},
   "outputs": [],
   "source": [
    "#Ejercicio 2\n",
    "\n",
    "titles = [\n",
    "    \"Speedrun de Super Mario en tiempo récord\",\n",
    "    \"Charla sobre desarrollo de videojuegos\",\n",
    "    \"Jugando al nuevo FPS del momento con amigos\",\n",
    "    \"Música en vivo: improvisaciones al piano\"\n",
    "]\n",
    "\n",
    "cantLetras = int(0)\n",
    "longestTitle = \"\"\n",
    "\n",
    "for title in titles:\n",
    "    if(len(title) > cantLetras):\n",
    "        longestTitle = title\n",
    "        cantLetras = len(title)\n",
    "\n",
    "print(f\"El título más largo es '{longestTitle}'\")"
   ]
  },
  {
   "cell_type": "code",
   "execution_count": null,
   "metadata": {},
   "outputs": [],
   "source": [
    "# Ejercicio 3\n",
    "\n",
    "rules = \"\"\"Respeta a los demás. No se permiten insultos ni lenguaje ofensivo.\n",
    "Evita el spam. No publiques enlaces sospechosos o repetitivos.\n",
    "No compartas información personal.\n",
    "Usa los canales adecuados para cada tema.\n",
    "Sigue las instrucciones de los moderadores.\"\"\"\n",
    "\n",
    "user_input = input(\"Ingrese una palabra clave: \")\n",
    "\n",
    "for linea in rules.split(\".\"):\n",
    "    if user_input.lower() in linea.lower():\n",
    "        print(linea.strip())"
   ]
  },
  {
   "cell_type": "code",
   "execution_count": null,
   "metadata": {},
   "outputs": [
    {
     "name": "stdout",
     "output_type": "stream",
     "text": [
      "El nombre de usuario debe tener: \n",
      "- Al menos 5 caracteres \n",
      "- Al menos un número \n",
      "-Al menos una mayúscula \n",
      "\n",
      "Además, solo puede contener letras y números\n",
      "\n"
     ]
    }
   ],
   "source": [
    "#Ejercicio 4: Validación nombre de usuario\n",
    "import string\n",
    "\n",
    "def validar_nombre_usuario(nombre):\n",
    "    digitos = 0\n",
    "    mayusculas = 0\n",
    "\n",
    "    if(len(nombre) < 5):\n",
    "        print(\"El nombre debe tener al menos 5 caracteres\")\n",
    "        return False\n",
    "\n",
    "    for caracter in nombre:\n",
    "        if caracter.lower() not in string.ascii_lowercase and caracter not in \"0123456789\":\n",
    "            print(\"Se ingresaron caracteres no válidos (Solo debe tener letras y números)\")\n",
    "            return False\n",
    "        if caracter in string.digits:\n",
    "            digitos += 1\n",
    "            continue\n",
    "        if caracter in string.ascii_uppercase:\n",
    "            mayusculas += 1\n",
    "    if digitos == 0:\n",
    "        print(\"El nombre debe tener al menos un número\")\n",
    "        return False\n",
    "    if mayusculas == 0:\n",
    "        print(\"El nombre debe contener al menos una mayúscula\")\n",
    "        return False\n",
    "    return True\n",
    "\n",
    "print(\"El nombre de usuario debe tener: \\n- Al menos 5 caracteres \\n- Al menos un número \\n-Al menos una mayúscula \\n\"\n",
    "\"\\nAdemás, solo puede contener letras y números\\n\")\n",
    "\n",
    "valido = False\n",
    "\n",
    "while(not valido):\n",
    "    user_name = input(\"Ingrese un nombre de usuario: \") \n",
    "    if validar_nombre_usuario(user_name):\n",
    "        print(f\"Se registro el usuario {user_name}\")\n",
    "        valido = True\n",
    "            "
   ]
  },
  {
   "cell_type": "code",
   "execution_count": null,
   "metadata": {},
   "outputs": [],
   "source": [
    "IndexError                                Traceback (most recent call last)\n",
    "Cell In[3], line 31\n",
    "     28 \"Namespaces are one honking great idea -- let's do more of those!\\n\"\n",
    "     30 for linea in zen_text.split(\"\\n\"):  \n",
    "---> 31     if segunda_palabra_vocal(linea):\n",
    "     32         print(linea.strip())  # Limpia espacios extras al imprimir\n",
    "\n",
    "Cell In[3], line 5, in segunda_palabra_vocal(linea)\n",
    "      3 def segunda_palabra_vocal(linea):\n",
    "      4     palabras = linea.split()\n",
    "----> 5     if palabras[1][0].lower() in \"aeiou\": \n",
    "      6         return True\n",
    "      7     return False\n",
    "\n",
    "IndexError: list index out of range"
   ]
  }
 ],
 "metadata": {
  "kernelspec": {
   "display_name": "Python 3",
   "language": "python",
   "name": "python3"
  },
  "language_info": {
   "codemirror_mode": {
    "name": "ipython",
    "version": 3
   },
   "file_extension": ".py",
   "mimetype": "text/x-python",
   "name": "python",
   "nbconvert_exporter": "python",
   "pygments_lexer": "ipython3",
   "version": "3.12.9"
  }
 },
 "nbformat": 4,
 "nbformat_minor": 4
}
