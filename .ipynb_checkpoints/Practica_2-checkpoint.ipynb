{
 "cells": [
  {
   "cell_type": "code",
   "execution_count": 1,
   "metadata": {},
   "outputs": [],
   "source": [
    "#Ejercicio 1\n",
    "\n",
    "def segunda_palabra_vocal(linea):\n",
    "    palabras = linea.split()\n",
    "    if len(palabras) > 1 and palabras[1][0].lower() in \"aeiou\": \n",
    "        return True\n",
    "    return False\n",
    "\n",
    "zen_text = \"The Zen of Python, by Tim Peters \\n\"\n",
    "\"Beautiful is better than ugly.\\n\"\n",
    "\"Explicit is better than implicit.\\n\"\n",
    "\"Simple is better than complex.\\n\"\n",
    "\"Complex is better than complicated.\\n\"\n",
    "\"Flat is better than nested.\\n\"\n",
    "\"Sparse is better than dense.\\n\"\n",
    "\"Readability counts.\\n\"\n",
    "\"Special cases aren't special enough to break the rules.\\n\"\n",
    "\"Although practicality beats purity.\\n\"\n",
    "\"Errors should never pass silently.\\n\"\n",
    "\"Unless explicitly silenced.\\n\"\n",
    "\"In the face of ambiguity, refuse the temptation to guess.\\n\"\n",
    "\"There should be one-- and preferably only one --obvious way to do it.\\n\"\n",
    "\"Although that way may not be obvious at first unless you're Dutch.\\n\"\n",
    "\"Now is better than never.\\n\"\n",
    "\"Although never is often better than *right* now.\\n\"\n",
    "\"If the implementation is hard to explain, it's a bad idea.\\n\"\n",
    "\"If the implementation is easy to explain, it may be a good idea.\\n\"\n",
    "\"Namespaces are one honking great idea -- let's do more of those!\\n\"\n",
    "\n",
    "for linea in zen_text.split(\"\\n\"):  \n",
    "    if segunda_palabra_vocal(linea):\n",
    "        print(linea.strip())\n"
   ]
  },
  {
   "cell_type": "code",
   "execution_count": null,
   "metadata": {},
   "outputs": [],
   "source": [
    "IndexError                                Traceback (most recent call last)\n",
    "Cell In[3], line 31\n",
    "     28 \"Namespaces are one honking great idea -- let's do more of those!\\n\"\n",
    "     30 for linea in zen_text.split(\"\\n\"):  \n",
    "---> 31     if segunda_palabra_vocal(linea):\n",
    "     32         print(linea.strip())  # Limpia espacios extras al imprimir\n",
    "\n",
    "Cell In[3], line 5, in segunda_palabra_vocal(linea)\n",
    "      3 def segunda_palabra_vocal(linea):\n",
    "      4     palabras = linea.split()\n",
    "----> 5     if palabras[1][0].lower() in \"aeiou\": \n",
    "      6         return True\n",
    "      7     return False\n",
    "\n",
    "IndexError: list index out of range"
   ]
  }
 ],
 "metadata": {
  "kernelspec": {
   "display_name": "Python 3 (ipykernel)",
   "language": "python",
   "name": "python3"
  },
  "language_info": {
   "codemirror_mode": {
    "name": "ipython",
    "version": 3
   },
   "file_extension": ".py",
   "mimetype": "text/x-python",
   "name": "python",
   "nbconvert_exporter": "python",
   "pygments_lexer": "ipython3",
   "version": "3.12.9"
  }
 },
 "nbformat": 4,
 "nbformat_minor": 4
}
